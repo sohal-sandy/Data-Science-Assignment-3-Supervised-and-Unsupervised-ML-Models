{
  "nbformat": 4,
  "nbformat_minor": 0,
  "metadata": {
    "colab": {
      "name": "kmeans.ipynb",
      "provenance": []
    },
    "kernelspec": {
      "name": "python3",
      "display_name": "Python 3"
    },
    "language_info": {
      "name": "python"
    }
  },
  "cells": [
    {
      "cell_type": "code",
      "execution_count": null,
      "metadata": {
        "id": "b7HZrGJUWnSK",
        "colab": {
          "base_uri": "https://localhost:8080/"
        },
        "outputId": "af4e6782-76f3-4f25-bcae-88cf2bf70787"
      },
      "outputs": [
        {
          "output_type": "stream",
          "name": "stderr",
          "text": [
            "/usr/local/lib/python3.7/dist-packages/statsmodels/tools/_testing.py:19: FutureWarning: pandas.util.testing is deprecated. Use the functions in the public API at pandas.testing instead.\n",
            "  import pandas.util.testing as tm\n"
          ]
        }
      ],
      "source": [
        "import numpy as np\n",
        "import pandas as pd\n",
        "import statsmodels.api as sm\n",
        "import matplotlib.pyplot as plt\n",
        "import seaborn as sns\n",
        "sns.set()\n",
        "from sklearn.cluster import KMeans"
      ]
    },
    {
      "cell_type": "code",
      "source": [
        "from google.colab import drive\n",
        "drive.mount('/content/drive/')"
      ],
      "metadata": {
        "colab": {
          "base_uri": "https://localhost:8080/"
        },
        "id": "TVH_uolpWoLf",
        "outputId": "ef1174f4-2f76-4be8-e7a1-f859ef113860"
      },
      "execution_count": null,
      "outputs": [
        {
          "output_type": "stream",
          "name": "stdout",
          "text": [
            "Mounted at /content/drive/\n"
          ]
        }
      ]
    },
    {
      "cell_type": "code",
      "source": [
        "#load dataset \n",
        "path='/content/drive/MyDrive/ds_heart/heart_disease.csv'\n",
        "dff=pd.read_csv(path)\n",
        "\n",
        "dff.head()"
      ],
      "metadata": {
        "colab": {
          "base_uri": "https://localhost:8080/",
          "height": 270
        },
        "id": "fUexetijWr1R",
        "outputId": "181ef100-36ca-4d9b-c945-0b3196f90aa2"
      },
      "execution_count": null,
      "outputs": [
        {
          "output_type": "execute_result",
          "data": {
            "text/html": [
              "\n",
              "  <div id=\"df-2a279d57-77b5-499d-bfb5-671e402f45ea\">\n",
              "    <div class=\"colab-df-container\">\n",
              "      <div>\n",
              "<style scoped>\n",
              "    .dataframe tbody tr th:only-of-type {\n",
              "        vertical-align: middle;\n",
              "    }\n",
              "\n",
              "    .dataframe tbody tr th {\n",
              "        vertical-align: top;\n",
              "    }\n",
              "\n",
              "    .dataframe thead th {\n",
              "        text-align: right;\n",
              "    }\n",
              "</style>\n",
              "<table border=\"1\" class=\"dataframe\">\n",
              "  <thead>\n",
              "    <tr style=\"text-align: right;\">\n",
              "      <th></th>\n",
              "      <th>age</th>\n",
              "      <th>sex</th>\n",
              "      <th>cp</th>\n",
              "      <th>testbps</th>\n",
              "      <th>chol</th>\n",
              "      <th>fbs</th>\n",
              "      <th>restecg</th>\n",
              "      <th>thalach</th>\n",
              "      <th>exang</th>\n",
              "      <th>oldpeak</th>\n",
              "      <th>slope</th>\n",
              "      <th>ca</th>\n",
              "      <th>thal</th>\n",
              "      <th>target</th>\n",
              "    </tr>\n",
              "  </thead>\n",
              "  <tbody>\n",
              "    <tr>\n",
              "      <th>0</th>\n",
              "      <td>63</td>\n",
              "      <td>1</td>\n",
              "      <td>1</td>\n",
              "      <td>145</td>\n",
              "      <td>233</td>\n",
              "      <td>1</td>\n",
              "      <td>2</td>\n",
              "      <td>150</td>\n",
              "      <td>0</td>\n",
              "      <td>2.3</td>\n",
              "      <td>3</td>\n",
              "      <td>0.0</td>\n",
              "      <td>6.0</td>\n",
              "      <td>0</td>\n",
              "    </tr>\n",
              "    <tr>\n",
              "      <th>1</th>\n",
              "      <td>67</td>\n",
              "      <td>1</td>\n",
              "      <td>4</td>\n",
              "      <td>160</td>\n",
              "      <td>286</td>\n",
              "      <td>0</td>\n",
              "      <td>2</td>\n",
              "      <td>108</td>\n",
              "      <td>1</td>\n",
              "      <td>1.5</td>\n",
              "      <td>2</td>\n",
              "      <td>3.0</td>\n",
              "      <td>3.0</td>\n",
              "      <td>2</td>\n",
              "    </tr>\n",
              "    <tr>\n",
              "      <th>2</th>\n",
              "      <td>67</td>\n",
              "      <td>1</td>\n",
              "      <td>4</td>\n",
              "      <td>120</td>\n",
              "      <td>229</td>\n",
              "      <td>0</td>\n",
              "      <td>2</td>\n",
              "      <td>129</td>\n",
              "      <td>1</td>\n",
              "      <td>2.6</td>\n",
              "      <td>2</td>\n",
              "      <td>2.0</td>\n",
              "      <td>7.0</td>\n",
              "      <td>1</td>\n",
              "    </tr>\n",
              "    <tr>\n",
              "      <th>3</th>\n",
              "      <td>37</td>\n",
              "      <td>1</td>\n",
              "      <td>3</td>\n",
              "      <td>130</td>\n",
              "      <td>250</td>\n",
              "      <td>0</td>\n",
              "      <td>0</td>\n",
              "      <td>187</td>\n",
              "      <td>0</td>\n",
              "      <td>3.5</td>\n",
              "      <td>3</td>\n",
              "      <td>0.0</td>\n",
              "      <td>3.0</td>\n",
              "      <td>0</td>\n",
              "    </tr>\n",
              "    <tr>\n",
              "      <th>4</th>\n",
              "      <td>41</td>\n",
              "      <td>0</td>\n",
              "      <td>2</td>\n",
              "      <td>130</td>\n",
              "      <td>204</td>\n",
              "      <td>0</td>\n",
              "      <td>2</td>\n",
              "      <td>172</td>\n",
              "      <td>0</td>\n",
              "      <td>1.4</td>\n",
              "      <td>1</td>\n",
              "      <td>0.0</td>\n",
              "      <td>3.0</td>\n",
              "      <td>0</td>\n",
              "    </tr>\n",
              "  </tbody>\n",
              "</table>\n",
              "</div>\n",
              "      <button class=\"colab-df-convert\" onclick=\"convertToInteractive('df-2a279d57-77b5-499d-bfb5-671e402f45ea')\"\n",
              "              title=\"Convert this dataframe to an interactive table.\"\n",
              "              style=\"display:none;\">\n",
              "        \n",
              "  <svg xmlns=\"http://www.w3.org/2000/svg\" height=\"24px\"viewBox=\"0 0 24 24\"\n",
              "       width=\"24px\">\n",
              "    <path d=\"M0 0h24v24H0V0z\" fill=\"none\"/>\n",
              "    <path d=\"M18.56 5.44l.94 2.06.94-2.06 2.06-.94-2.06-.94-.94-2.06-.94 2.06-2.06.94zm-11 1L8.5 8.5l.94-2.06 2.06-.94-2.06-.94L8.5 2.5l-.94 2.06-2.06.94zm10 10l.94 2.06.94-2.06 2.06-.94-2.06-.94-.94-2.06-.94 2.06-2.06.94z\"/><path d=\"M17.41 7.96l-1.37-1.37c-.4-.4-.92-.59-1.43-.59-.52 0-1.04.2-1.43.59L10.3 9.45l-7.72 7.72c-.78.78-.78 2.05 0 2.83L4 21.41c.39.39.9.59 1.41.59.51 0 1.02-.2 1.41-.59l7.78-7.78 2.81-2.81c.8-.78.8-2.07 0-2.86zM5.41 20L4 18.59l7.72-7.72 1.47 1.35L5.41 20z\"/>\n",
              "  </svg>\n",
              "      </button>\n",
              "      \n",
              "  <style>\n",
              "    .colab-df-container {\n",
              "      display:flex;\n",
              "      flex-wrap:wrap;\n",
              "      gap: 12px;\n",
              "    }\n",
              "\n",
              "    .colab-df-convert {\n",
              "      background-color: #E8F0FE;\n",
              "      border: none;\n",
              "      border-radius: 50%;\n",
              "      cursor: pointer;\n",
              "      display: none;\n",
              "      fill: #1967D2;\n",
              "      height: 32px;\n",
              "      padding: 0 0 0 0;\n",
              "      width: 32px;\n",
              "    }\n",
              "\n",
              "    .colab-df-convert:hover {\n",
              "      background-color: #E2EBFA;\n",
              "      box-shadow: 0px 1px 2px rgba(60, 64, 67, 0.3), 0px 1px 3px 1px rgba(60, 64, 67, 0.15);\n",
              "      fill: #174EA6;\n",
              "    }\n",
              "\n",
              "    [theme=dark] .colab-df-convert {\n",
              "      background-color: #3B4455;\n",
              "      fill: #D2E3FC;\n",
              "    }\n",
              "\n",
              "    [theme=dark] .colab-df-convert:hover {\n",
              "      background-color: #434B5C;\n",
              "      box-shadow: 0px 1px 3px 1px rgba(0, 0, 0, 0.15);\n",
              "      filter: drop-shadow(0px 1px 2px rgba(0, 0, 0, 0.3));\n",
              "      fill: #FFFFFF;\n",
              "    }\n",
              "  </style>\n",
              "\n",
              "      <script>\n",
              "        const buttonEl =\n",
              "          document.querySelector('#df-2a279d57-77b5-499d-bfb5-671e402f45ea button.colab-df-convert');\n",
              "        buttonEl.style.display =\n",
              "          google.colab.kernel.accessAllowed ? 'block' : 'none';\n",
              "\n",
              "        async function convertToInteractive(key) {\n",
              "          const element = document.querySelector('#df-2a279d57-77b5-499d-bfb5-671e402f45ea');\n",
              "          const dataTable =\n",
              "            await google.colab.kernel.invokeFunction('convertToInteractive',\n",
              "                                                     [key], {});\n",
              "          if (!dataTable) return;\n",
              "\n",
              "          const docLinkHtml = 'Like what you see? Visit the ' +\n",
              "            '<a target=\"_blank\" href=https://colab.research.google.com/notebooks/data_table.ipynb>data table notebook</a>'\n",
              "            + ' to learn more about interactive tables.';\n",
              "          element.innerHTML = '';\n",
              "          dataTable['output_type'] = 'display_data';\n",
              "          await google.colab.output.renderOutput(dataTable, element);\n",
              "          const docLink = document.createElement('div');\n",
              "          docLink.innerHTML = docLinkHtml;\n",
              "          element.appendChild(docLink);\n",
              "        }\n",
              "      </script>\n",
              "    </div>\n",
              "  </div>\n",
              "  "
            ],
            "text/plain": [
              "   age  sex  cp  testbps  chol  fbs  restecg  thalach  exang  oldpeak  slope  \\\n",
              "0   63    1   1      145   233    1        2      150      0      2.3      3   \n",
              "1   67    1   4      160   286    0        2      108      1      1.5      2   \n",
              "2   67    1   4      120   229    0        2      129      1      2.6      2   \n",
              "3   37    1   3      130   250    0        0      187      0      3.5      3   \n",
              "4   41    0   2      130   204    0        2      172      0      1.4      1   \n",
              "\n",
              "    ca  thal  target  \n",
              "0  0.0   6.0       0  \n",
              "1  3.0   3.0       2  \n",
              "2  2.0   7.0       1  \n",
              "3  0.0   3.0       0  \n",
              "4  0.0   3.0       0  "
            ]
          },
          "metadata": {},
          "execution_count": 3
        }
      ]
    },
    {
      "cell_type": "code",
      "source": [
        "#drop samples with missing values\n",
        "dff.isnull().sum()"
      ],
      "metadata": {
        "colab": {
          "base_uri": "https://localhost:8080/"
        },
        "id": "fTx1kDXeWwHf",
        "outputId": "873dbfc8-4a8b-4dfa-9b3f-b21ae6877fff"
      },
      "execution_count": null,
      "outputs": [
        {
          "output_type": "execute_result",
          "data": {
            "text/plain": [
              "age        0\n",
              "sex        0\n",
              "cp         0\n",
              "testbps    0\n",
              "chol       0\n",
              "fbs        0\n",
              "restecg    0\n",
              "thalach    0\n",
              "exang      0\n",
              "oldpeak    0\n",
              "slope      0\n",
              "ca         4\n",
              "thal       2\n",
              "target     0\n",
              "dtype: int64"
            ]
          },
          "metadata": {},
          "execution_count": 4
        }
      ]
    },
    {
      "cell_type": "code",
      "source": [
        "data=dff.dropna()"
      ],
      "metadata": {
        "id": "xfqqsSfxWynT"
      },
      "execution_count": null,
      "outputs": []
    },
    {
      "cell_type": "code",
      "source": [
        "from sklearn.preprocessing import StandardScaler\n",
        "standardScaler = StandardScaler()\n",
        "columns_to_scale = ['age', 'testbps', 'chol', 'thalach', 'oldpeak']\n",
        "data[columns_to_scale] = standardScaler.fit_transform(data[columns_to_scale])"
      ],
      "metadata": {
        "colab": {
          "base_uri": "https://localhost:8080/"
        },
        "id": "RqY5YHCuW1t9",
        "outputId": "b1d70286-16ab-489e-b225-3a328d08f3e2"
      },
      "execution_count": null,
      "outputs": [
        {
          "output_type": "stream",
          "name": "stderr",
          "text": [
            "/usr/local/lib/python3.7/dist-packages/pandas/core/frame.py:3678: SettingWithCopyWarning: \n",
            "A value is trying to be set on a copy of a slice from a DataFrame.\n",
            "Try using .loc[row_indexer,col_indexer] = value instead\n",
            "\n",
            "See the caveats in the documentation: https://pandas.pydata.org/pandas-docs/stable/user_guide/indexing.html#returning-a-view-versus-a-copy\n",
            "  self[col] = igetitem(value, i)\n"
          ]
        }
      ]
    },
    {
      "cell_type": "code",
      "source": [
        "plt.scatter(data['age'],data['chol'])\n",
        "\n",
        "plt.show()"
      ],
      "metadata": {
        "colab": {
          "base_uri": "https://localhost:8080/",
          "height": 268
        },
        "id": "Ai-PEo7kW4fl",
        "outputId": "db145c16-1605-4987-e4ed-cec9642abd37"
      },
      "execution_count": null,
      "outputs": [
        {
          "output_type": "display_data",
          "data": {
            "image/png": "[encoded data removed]",
            "text/plain": [
              "<Figure size 432x288 with 1 Axes>"
            ]
          },
          "metadata": {
            "needs_background": "light"
          }
        }
      ]
    },
    {
      "cell_type": "code",
      "source": [
        "x=data.loc[:,['age','chol']]"
      ],
      "metadata": {
        "id": "HJ_O4UU2W-Nm"
      },
      "execution_count": null,
      "outputs": []
    },
    {
      "cell_type": "code",
      "source": [
        "kmeans = KMeans(2)\n",
        "kmeans.fit(x)"
      ],
      "metadata": {
        "colab": {
          "base_uri": "https://localhost:8080/"
        },
        "id": "446Mw6GgXtWn",
        "outputId": "c8a734de-6be4-4418-ed17-68e97fff5b9f"
      },
      "execution_count": null,
      "outputs": [
        {
          "output_type": "execute_result",
          "data": {
            "text/plain": [
              "KMeans(n_clusters=2)"
            ]
          },
          "metadata": {},
          "execution_count": 9
        }
      ]
    },
    {
      "cell_type": "code",
      "source": [
        "identified_clusters = kmeans.fit_predict(x)\n",
        "identified_clusters"
      ],
      "metadata": {
        "colab": {
          "base_uri": "https://localhost:8080/"
        },
        "id": "NMB9ewbOarWD",
        "outputId": "627380ad-a8a5-42ed-bc92-482609b16d15"
      },
      "execution_count": null,
      "outputs": [
        {
          "output_type": "execute_result",
          "data": {
            "text/plain": [
              "array([0, 0, 0, 1, 1, 0, 0, 0, 0, 1, 1, 0, 0, 1, 1, 1, 1, 0, 1, 1, 0, 0,\n",
              "       0, 0, 0, 1, 0, 0, 1, 1, 0, 0, 0, 0, 1, 1, 1, 0, 0, 0, 0, 1, 0, 0,\n",
              "       0, 0, 1, 1, 0, 1, 1, 0, 1, 1, 0, 0, 1, 1, 0, 1, 0, 1, 0, 0, 1, 0,\n",
              "       0, 1, 0, 1, 0, 0, 0, 0, 1, 0, 0, 0, 1, 0, 1, 0, 1, 0, 0, 1, 1, 1,\n",
              "       1, 0, 0, 0, 1, 0, 1, 0, 0, 1, 1, 1, 1, 0, 0, 1, 0, 0, 0, 0, 1, 0,\n",
              "       0, 1, 1, 0, 1, 0, 1, 0, 0, 1, 0, 1, 1, 0, 1, 0, 0, 1, 0, 0, 1, 1,\n",
              "       1, 1, 0, 0, 0, 1, 1, 0, 0, 1, 0, 0, 1, 0, 1, 1, 0, 0, 1, 0, 0, 0,\n",
              "       0, 0, 0, 0, 0, 1, 0, 1, 0, 1, 0, 0, 1, 1, 0, 1, 0, 0, 0, 0, 1, 1,\n",
              "       1, 1, 1, 0, 1, 0, 0, 0, 1, 0, 0, 0, 1, 0, 0, 0, 0, 0, 1, 1, 0, 1,\n",
              "       0, 1, 0, 1, 1, 0, 1, 0, 0, 1, 1, 1, 0, 1, 1, 1, 1, 0, 0, 1, 0, 1,\n",
              "       0, 0, 1, 1, 0, 1, 0, 1, 0, 1, 0, 1, 0, 0, 1, 1, 1, 1, 1, 1, 0, 0,\n",
              "       0, 0, 1, 1, 0, 0, 0, 0, 0, 1, 1, 0, 0, 0, 0, 1, 0, 0, 1, 0, 1, 0,\n",
              "       1, 1, 0, 0, 1, 0, 0, 0, 0, 1, 0, 0, 0, 1, 1, 1, 0, 0, 0, 0, 0, 0,\n",
              "       0, 1, 0, 0, 1, 0, 0, 1, 0, 1, 0], dtype=int32)"
            ]
          },
          "metadata": {},
          "execution_count": 10
        }
      ]
    },
    {
      "cell_type": "code",
      "source": [
        "data_with_clusters = data.copy()\n",
        "data_with_clusters['Clusters'] = identified_clusters \n",
        "plt.scatter(data_with_clusters['age'],data_with_clusters['chol'],c=data_with_clusters['Clusters'],cmap='rainbow')"
      ],
      "metadata": {
        "colab": {
          "base_uri": "https://localhost:8080/",
          "height": 286
        },
        "id": "fjvlxTNEbgcD",
        "outputId": "3a6b915c-7286-4dc7-deb2-418d88d80db6"
      },
      "execution_count": null,
      "outputs": [
        {
          "output_type": "execute_result",
          "data": {
            "text/plain": [
              "<matplotlib.collections.PathCollection at 0x7f88985a1950>"
            ]
          },
          "metadata": {},
          "execution_count": 11
        },
        {
          "output_type": "display_data",
          "data": {
            "image/png": "[encoded data removed]",
            "text/plain": [
              "<Figure size 432x288 with 1 Axes>"
            ]
          },
          "metadata": {
            "needs_background": "light"
          }
        }
      ]
    },
    {
      "cell_type": "code",
      "source": [
        "wcss=[]\n",
        "for i in range(1,11):\n",
        "  kmeans= KMeans(i)\n",
        "  kmeans.fit(x)\n",
        "  wcss_iter = kmeans.inertia_\n",
        "  wcss.append(wcss_iter)\n",
        "\n",
        "number_clusters = range(1,11)\n",
        "plt.plot(number_clusters,wcss)\n",
        "plt.title(' Elbow ')\n",
        "plt.xlabel('Number of clusters')\n",
        "plt.ylabel('WCSS') #SSE"
      ],
      "metadata": {
        "colab": {
          "base_uri": "https://localhost:8080/",
          "height": 319
        },
        "id": "PlfYiX9Qboq9",
        "outputId": "d7a51711-c7d8-431c-e86b-1498d263cb75"
      },
      "execution_count": null,
      "outputs": [
        {
          "output_type": "execute_result",
          "data": {
            "text/plain": [
              "Text(0, 0.5, 'WCSS')"
            ]
          },
          "metadata": {},
          "execution_count": 12
        },
        {
          "output_type": "display_data",
          "data": {
            "image/png": "[encoded data removed]",
            "text/plain": [
              "<Figure size 432x288 with 1 Axes>"
            ]
          },
          "metadata": {
            "needs_background": "light"
          }
        }
      ]
    },
    {
      "cell_type": "code",
      "source": [
        "#SSE\n",
        "mycenters=pd.DataFrame({'Clusters':number_clusters, 'WSS':wcss })\n",
        "mycenters"
      ],
      "metadata": {
        "colab": {
          "base_uri": "https://localhost:8080/",
          "height": 363
        },
        "id": "_TpqKwRAgZTu",
        "outputId": "8686fef0-766d-43f1-9036-b351723422aa"
      },
      "execution_count": null,
      "outputs": [
        {
          "output_type": "execute_result",
          "data": {
            "text/html": [
              "\n",
              "  <div id=\"df-e85569d9-3d0d-4018-9023-cba2c73c9d5a\">\n",
              "    <div class=\"colab-df-container\">\n",
              "      <div>\n",
              "<style scoped>\n",
              "    .dataframe tbody tr th:only-of-type {\n",
              "        vertical-align: middle;\n",
              "    }\n",
              "\n",
              "    .dataframe tbody tr th {\n",
              "        vertical-align: top;\n",
              "    }\n",
              "\n",
              "    .dataframe thead th {\n",
              "        text-align: right;\n",
              "    }\n",
              "</style>\n",
              "<table border=\"1\" class=\"dataframe\">\n",
              "  <thead>\n",
              "    <tr style=\"text-align: right;\">\n",
              "      <th></th>\n",
              "      <th>Clusters</th>\n",
              "      <th>WSS</th>\n",
              "    </tr>\n",
              "  </thead>\n",
              "  <tbody>\n",
              "    <tr>\n",
              "      <th>0</th>\n",
              "      <td>1</td>\n",
              "      <td>594.000000</td>\n",
              "    </tr>\n",
              "    <tr>\n",
              "      <th>1</th>\n",
              "      <td>2</td>\n",
              "      <td>368.707404</td>\n",
              "    </tr>\n",
              "    <tr>\n",
              "      <th>2</th>\n",
              "      <td>3</td>\n",
              "      <td>251.306565</td>\n",
              "    </tr>\n",
              "    <tr>\n",
              "      <th>3</th>\n",
              "      <td>4</td>\n",
              "      <td>202.908602</td>\n",
              "    </tr>\n",
              "    <tr>\n",
              "      <th>4</th>\n",
              "      <td>5</td>\n",
              "      <td>163.148180</td>\n",
              "    </tr>\n",
              "    <tr>\n",
              "      <th>5</th>\n",
              "      <td>6</td>\n",
              "      <td>139.671167</td>\n",
              "    </tr>\n",
              "    <tr>\n",
              "      <th>6</th>\n",
              "      <td>7</td>\n",
              "      <td>118.780971</td>\n",
              "    </tr>\n",
              "    <tr>\n",
              "      <th>7</th>\n",
              "      <td>8</td>\n",
              "      <td>103.898189</td>\n",
              "    </tr>\n",
              "    <tr>\n",
              "      <th>8</th>\n",
              "      <td>9</td>\n",
              "      <td>90.999083</td>\n",
              "    </tr>\n",
              "    <tr>\n",
              "      <th>9</th>\n",
              "      <td>10</td>\n",
              "      <td>80.646805</td>\n",
              "    </tr>\n",
              "  </tbody>\n",
              "</table>\n",
              "</div>\n",
              "      <button class=\"colab-df-convert\" onclick=\"convertToInteractive('df-e85569d9-3d0d-4018-9023-cba2c73c9d5a')\"\n",
              "              title=\"Convert this dataframe to an interactive table.\"\n",
              "              style=\"display:none;\">\n",
              "        \n",
              "  <svg xmlns=\"http://www.w3.org/2000/svg\" height=\"24px\"viewBox=\"0 0 24 24\"\n",
              "       width=\"24px\">\n",
              "    <path d=\"M0 0h24v24H0V0z\" fill=\"none\"/>\n",
              "    <path d=\"M18.56 5.44l.94 2.06.94-2.06 2.06-.94-2.06-.94-.94-2.06-.94 2.06-2.06.94zm-11 1L8.5 8.5l.94-2.06 2.06-.94-2.06-.94L8.5 2.5l-.94 2.06-2.06.94zm10 10l.94 2.06.94-2.06 2.06-.94-2.06-.94-.94-2.06-.94 2.06-2.06.94z\"/><path d=\"M17.41 7.96l-1.37-1.37c-.4-.4-.92-.59-1.43-.59-.52 0-1.04.2-1.43.59L10.3 9.45l-7.72 7.72c-.78.78-.78 2.05 0 2.83L4 21.41c.39.39.9.59 1.41.59.51 0 1.02-.2 1.41-.59l7.78-7.78 2.81-2.81c.8-.78.8-2.07 0-2.86zM5.41 20L4 18.59l7.72-7.72 1.47 1.35L5.41 20z\"/>\n",
              "  </svg>\n",
              "      </button>\n",
              "      \n",
              "  <style>\n",
              "    .colab-df-container {\n",
              "      display:flex;\n",
              "      flex-wrap:wrap;\n",
              "      gap: 12px;\n",
              "    }\n",
              "\n",
              "    .colab-df-convert {\n",
              "      background-color: #E8F0FE;\n",
              "      border: none;\n",
              "      border-radius: 50%;\n",
              "      cursor: pointer;\n",
              "      display: none;\n",
              "      fill: #1967D2;\n",
              "      height: 32px;\n",
              "      padding: 0 0 0 0;\n",
              "      width: 32px;\n",
              "    }\n",
              "\n",
              "    .colab-df-convert:hover {\n",
              "      background-color: #E2EBFA;\n",
              "      box-shadow: 0px 1px 2px rgba(60, 64, 67, 0.3), 0px 1px 3px 1px rgba(60, 64, 67, 0.15);\n",
              "      fill: #174EA6;\n",
              "    }\n",
              "\n",
              "    [theme=dark] .colab-df-convert {\n",
              "      background-color: #3B4455;\n",
              "      fill: #D2E3FC;\n",
              "    }\n",
              "\n",
              "    [theme=dark] .colab-df-convert:hover {\n",
              "      background-color: #434B5C;\n",
              "      box-shadow: 0px 1px 3px 1px rgba(0, 0, 0, 0.15);\n",
              "      filter: drop-shadow(0px 1px 2px rgba(0, 0, 0, 0.3));\n",
              "      fill: #FFFFFF;\n",
              "    }\n",
              "  </style>\n",
              "\n",
              "      <script>\n",
              "        const buttonEl =\n",
              "          document.querySelector('#df-e85569d9-3d0d-4018-9023-cba2c73c9d5a button.colab-df-convert');\n",
              "        buttonEl.style.display =\n",
              "          google.colab.kernel.accessAllowed ? 'block' : 'none';\n",
              "\n",
              "        async function convertToInteractive(key) {\n",
              "          const element = document.querySelector('#df-e85569d9-3d0d-4018-9023-cba2c73c9d5a');\n",
              "          const dataTable =\n",
              "            await google.colab.kernel.invokeFunction('convertToInteractive',\n",
              "                                                     [key], {});\n",
              "          if (!dataTable) return;\n",
              "\n",
              "          const docLinkHtml = 'Like what you see? Visit the ' +\n",
              "            '<a target=\"_blank\" href=https://colab.research.google.com/notebooks/data_table.ipynb>data table notebook</a>'\n",
              "            + ' to learn more about interactive tables.';\n",
              "          element.innerHTML = '';\n",
              "          dataTable['output_type'] = 'display_data';\n",
              "          await google.colab.output.renderOutput(dataTable, element);\n",
              "          const docLink = document.createElement('div');\n",
              "          docLink.innerHTML = docLinkHtml;\n",
              "          element.appendChild(docLink);\n",
              "        }\n",
              "      </script>\n",
              "    </div>\n",
              "  </div>\n",
              "  "
            ],
            "text/plain": [
              "   Clusters         WSS\n",
              "0         1  594.000000\n",
              "1         2  368.707404\n",
              "2         3  251.306565\n",
              "3         4  202.908602\n",
              "4         5  163.148180\n",
              "5         6  139.671167\n",
              "6         7  118.780971\n",
              "7         8  103.898189\n",
              "8         9   90.999083\n",
              "9        10   80.646805"
            ]
          },
          "metadata": {},
          "execution_count": 13
        }
      ]
    },
    {
      "cell_type": "code",
      "source": [
        "import matplotlib.pyplot as plt\n",
        "from numpy import unique, where\n",
        "model = KMeans(n_clusters=5, verbose=1)\n",
        "\n",
        "model.fit(x)\n",
        "yhat = model.predict(x)\n",
        "clusters = unique(yhat)\n",
        "\n",
        "for cluster in clusters:\n",
        "\trow_ix = where(yhat == cluster)\n",
        "\tplt.scatter(data_with_clusters['age'],data_with_clusters['chol'],cmap='rainbow')\n",
        "plt.show()\n"
      ],
      "metadata": {
        "colab": {
          "base_uri": "https://localhost:8080/",
          "height": 1000
        },
        "id": "FNmln5VubzoX",
        "outputId": "4d61b35f-6b30-4ac8-86f4-1294c3cc3c52"
      },
      "execution_count": null,
      "outputs": [
        {
          "output_type": "stream",
          "name": "stdout",
          "text": [
            "Initialization complete\n",
            "Iteration 0, inertia 237.52020866740162\n",
            "Iteration 1, inertia 199.8029429011173\n",
            "Iteration 2, inertia 186.4431597968113\n",
            "Iteration 3, inertia 182.51365044127303\n",
            "Iteration 4, inertia 181.68686904972753\n",
            "Iteration 5, inertia 180.92419874411337\n",
            "Iteration 6, inertia 180.5361977692203\n",
            "Iteration 7, inertia 179.76992340552175\n",
            "Iteration 8, inertia 178.55622165780147\n",
            "Iteration 9, inertia 177.23799900458232\n",
            "Iteration 10, inertia 176.5951349664099\n",
            "Iteration 11, inertia 175.8536961813498\n",
            "Iteration 12, inertia 174.68379344791384\n",
            "Iteration 13, inertia 172.75714283159405\n",
            "Iteration 14, inertia 171.58678334381432\n",
            "Iteration 15, inertia 170.32028401223855\n",
            "Iteration 16, inertia 170.16440224403016\n",
            "Iteration 17, inertia 170.04658909982948\n",
            "Iteration 18, inertia 170.00909276657822\n",
            "Converged at iteration 18: strict convergence.\n",
            "Initialization complete\n",
            "Iteration 0, inertia 230.0575609051819\n",
            "Iteration 1, inertia 187.72282259372753\n",
            "Iteration 2, inertia 176.97551213238103\n",
            "Iteration 3, inertia 174.29039770817394\n",
            "Iteration 4, inertia 172.04859295722957\n",
            "Iteration 5, inertia 170.36548607943334\n",
            "Iteration 6, inertia 168.93794763299204\n",
            "Iteration 7, inertia 168.7005781867789\n",
            "Iteration 8, inertia 168.4012169381062\n",
            "Iteration 9, inertia 167.41770403855315\n",
            "Iteration 10, inertia 165.87646924172\n",
            "Iteration 11, inertia 165.39537135740153\n",
            "Iteration 12, inertia 165.18240266460316\n",
            "Iteration 13, inertia 164.83640340212418\n",
            "Iteration 14, inertia 164.3022187387604\n",
            "Iteration 15, inertia 163.99235051186173\n",
            "Iteration 16, inertia 163.8894537752307\n",
            "Iteration 17, inertia 163.74369132292958\n",
            "Iteration 18, inertia 163.64887334185775\n",
            "Iteration 19, inertia 163.62251312706778\n",
            "Converged at iteration 19: strict convergence.\n",
            "Initialization complete\n",
            "Iteration 0, inertia 223.40739526153385\n",
            "Iteration 1, inertia 175.9474312683475\n",
            "Iteration 2, inertia 168.46151474170316\n",
            "Iteration 3, inertia 167.43349174026315\n",
            "Iteration 4, inertia 166.69453601170983\n",
            "Iteration 5, inertia 165.9353294356428\n",
            "Iteration 6, inertia 165.22534941056944\n",
            "Iteration 7, inertia 164.86370220595168\n",
            "Iteration 8, inertia 164.76128193777384\n",
            "Iteration 9, inertia 164.24866086798943\n",
            "Iteration 10, inertia 163.99235051186173\n",
            "Iteration 11, inertia 163.8894537752307\n",
            "Iteration 12, inertia 163.74369132292958\n",
            "Iteration 13, inertia 163.64887334185775\n",
            "Iteration 14, inertia 163.62251312706778\n",
            "Converged at iteration 14: strict convergence.\n",
            "Initialization complete\n",
            "Iteration 0, inertia 240.8979124812005\n",
            "Iteration 1, inertia 187.7082971068071\n",
            "Iteration 2, inertia 183.21651964651045\n",
            "Iteration 3, inertia 182.2394857336978\n",
            "Iteration 4, inertia 181.9178044339975\n",
            "Iteration 5, inertia 181.68826950839633\n",
            "Iteration 6, inertia 181.5981287386889\n",
            "Iteration 7, inertia 181.53484074413637\n",
            "Iteration 8, inertia 181.47411288030548\n",
            "Iteration 9, inertia 181.38600653480827\n",
            "Iteration 10, inertia 181.36341728875362\n",
            "Converged at iteration 10: strict convergence.\n",
            "Initialization complete\n",
            "Iteration 0, inertia 238.62582268646878\n",
            "Iteration 1, inertia 187.60220744417518\n",
            "Iteration 2, inertia 180.81197206920206\n",
            "Iteration 3, inertia 177.1440970830158\n",
            "Iteration 4, inertia 171.6001722518155\n",
            "Iteration 5, inertia 168.8087190536558\n",
            "Iteration 6, inertia 167.41972128905553\n",
            "Iteration 7, inertia 165.54598959968322\n",
            "Iteration 8, inertia 164.72935316567276\n",
            "Iteration 9, inertia 164.34813184970727\n",
            "Iteration 10, inertia 164.334084444273\n",
            "Converged at iteration 10: strict convergence.\n",
            "Initialization complete\n",
            "Iteration 0, inertia 246.8438850472673\n",
            "Iteration 1, inertia 196.73114801828953\n",
            "Iteration 2, inertia 183.68551023912528\n",
            "Iteration 3, inertia 177.24413870240954\n",
            "Iteration 4, inertia 171.9740243077144\n",
            "Iteration 5, inertia 169.4902968136302\n",
            "Iteration 6, inertia 167.22738816806446\n",
            "Iteration 7, inertia 165.84900016665284\n",
            "Iteration 8, inertia 164.94392611671333\n",
            "Iteration 9, inertia 163.9436802441466\n",
            "Iteration 10, inertia 163.33609601693502\n",
            "Iteration 11, inertia 163.2184672538746\n",
            "Iteration 12, inertia 163.14818040218054\n",
            "Converged at iteration 12: strict convergence.\n",
            "Initialization complete\n",
            "Iteration 0, inertia 203.59475794258307\n",
            "Iteration 1, inertia 193.59783745778674\n",
            "Iteration 2, inertia 186.37256360680277\n",
            "Iteration 3, inertia 181.3684890575243\n",
            "Iteration 4, inertia 179.39742323343984\n",
            "Iteration 5, inertia 178.65275762582036\n",
            "Iteration 6, inertia 178.2275442203408\n",
            "Iteration 7, inertia 177.761738251719\n",
            "Iteration 8, inertia 177.6391327691425\n",
            "Iteration 9, inertia 177.2506540756038\n",
            "Iteration 10, inertia 176.38628335946652\n",
            "Iteration 11, inertia 175.9164569752432\n",
            "Iteration 12, inertia 174.2112408430592\n",
            "Iteration 13, inertia 171.5122422965793\n",
            "Iteration 14, inertia 169.38531781858836\n",
            "Iteration 15, inertia 167.60448698606882\n",
            "Iteration 16, inertia 166.9741995124084\n",
            "Iteration 17, inertia 165.9610433517715\n",
            "Iteration 18, inertia 165.51082681947628\n",
            "Iteration 19, inertia 164.98281140987743\n",
            "Iteration 20, inertia 164.33424424612434\n",
            "Iteration 21, inertia 163.6865064413077\n",
            "Iteration 22, inertia 163.1661492817604\n",
            "Iteration 23, inertia 163.14190306042843\n",
            "Converged at iteration 23: strict convergence.\n",
            "Initialization complete\n",
            "Iteration 0, inertia 208.52849485470279\n",
            "Iteration 1, inertia 186.70515334914398\n",
            "Iteration 2, inertia 181.3799030922601\n",
            "Iteration 3, inertia 174.80760679910708\n",
            "Iteration 4, inertia 171.2490682555834\n",
            "Iteration 5, inertia 169.9785047407616\n",
            "Iteration 6, inertia 169.4107216965444\n",
            "Iteration 7, inertia 167.43495437385067\n",
            "Iteration 8, inertia 165.70905558844726\n",
            "Iteration 9, inertia 164.99690849335423\n",
            "Iteration 10, inertia 164.84127810196003\n",
            "Iteration 11, inertia 164.646003706516\n",
            "Iteration 12, inertia 164.62397988122697\n",
            "Converged at iteration 12: strict convergence.\n",
            "Initialization complete\n",
            "Iteration 0, inertia 195.38893134530736\n",
            "Iteration 1, inertia 175.41650002092075\n",
            "Iteration 2, inertia 171.35128888045182\n",
            "Iteration 3, inertia 168.97694447419957\n",
            "Iteration 4, inertia 167.50093417914866\n",
            "Iteration 5, inertia 166.2289873339522\n",
            "Iteration 6, inertia 165.13037802876954\n",
            "Iteration 7, inertia 164.3635173515773\n",
            "Iteration 8, inertia 164.30286863423692\n",
            "Converged at iteration 8: strict convergence.\n",
            "Initialization complete\n",
            "Iteration 0, inertia 212.9497221829373\n",
            "Iteration 1, inertia 184.71265931450915\n",
            "Iteration 2, inertia 180.12373974763358\n",
            "Iteration 3, inertia 178.1219552016821\n",
            "Iteration 4, inertia 176.60117399067872\n",
            "Iteration 5, inertia 175.4465481489347\n",
            "Iteration 6, inertia 173.29842187610265\n",
            "Iteration 7, inertia 170.90665157975712\n",
            "Iteration 8, inertia 169.4132867792521\n",
            "Iteration 9, inertia 168.00075069379574\n",
            "Iteration 10, inertia 166.63766291341616\n",
            "Iteration 11, inertia 166.0147843184757\n",
            "Iteration 12, inertia 165.6032553989066\n",
            "Iteration 13, inertia 165.46470938954064\n",
            "Iteration 14, inertia 165.21210104079893\n",
            "Iteration 15, inertia 165.05127029784114\n",
            "Iteration 16, inertia 164.97863964981434\n",
            "Converged at iteration 16: strict convergence.\n"
          ]
        },
        {
          "output_type": "display_data",
          "data": {
            "image/png": "[encoded data removed]",
            "text/plain": [
              "<Figure size 432x288 with 1 Axes>"
            ]
          },
          "metadata": {
            "needs_background": "light"
          }
        }
      ]
    },
    {
      "cell_type": "code",
      "source": [
        "#citation: https://www.analyticsvidhya.com/blog/2021/04/k-means-clustering-simplified-in-python/"
      ],
      "metadata": {
        "id": "G9Nc1N9zcaZj"
      },
      "execution_count": null,
      "outputs": []
    },
    {
      "cell_type": "code",
      "source": [
        ""
      ],
      "metadata": {
        "id": "ykFkSstddz4D"
      },
      "execution_count": null,
      "outputs": []
    },
    {
      "cell_type": "code",
      "source": [
        ""
      ],
      "metadata": {
        "id": "burbMNbbd4zw"
      },
      "execution_count": null,
      "outputs": []
    },
    {
      "cell_type": "code",
      "source": [
        ""
      ],
      "metadata": {
        "id": "afV0BzFKd6rW"
      },
      "execution_count": null,
      "outputs": []
    },
    {
      "cell_type": "code",
      "source": [
        ""
      ],
      "metadata": {
        "id": "LF4WLC5nd8gN"
      },
      "execution_count": null,
      "outputs": []
    },
    {
      "cell_type": "code",
      "source": [
        ""
      ],
      "metadata": {
        "id": "vYLh740Pd-bl"
      },
      "execution_count": null,
      "outputs": []
    },
    {
      "cell_type": "code",
      "source": [
        ""
      ],
      "metadata": {
        "id": "V7m-NdBFeAVj"
      },
      "execution_count": null,
      "outputs": []
    },
    {
      "cell_type": "code",
      "source": [
        ""
      ],
      "metadata": {
        "id": "Z51LN_06eCPU"
      },
      "execution_count": null,
      "outputs": []
    },
    {
      "cell_type": "code",
      "source": [
        ""
      ],
      "metadata": {
        "id": "xQYBw8UNeEXz"
      },
      "execution_count": null,
      "outputs": []
    }
  ]
}